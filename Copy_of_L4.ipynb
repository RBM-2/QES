{
  "cells": [
    {
      "cell_type": "markdown",
      "metadata": {
        "id": "Wm4_kDaHRGck"
      },
      "source": [
        "# Lent Practical 4: A 3 Box Ocean\n",
        "\n",
        "Over the next three practicals you'll be building up a 4-box model of carbon in the ocean and atmosphere, which incorporates physical, chemical and biological processes, and involves multiple interacting components.\n",
        "\n",
        "In this practical, you'll start by creating a 3-box ocean model that everything else will be built on. As discussed in lectures, we're using a 3-box model because it's the simplest possible configuration that allows us to represent both thermohaline circulation (with a latitudinal density gradient), and the separation of the surface and deep ocean, both of which are necessary to represent carbon in the ocean.\n",
        "\n",
        "Today, you'll be introduced to the overall structure of the model by setting up the transport of two conservative quantities - salt and heat, and their modification by evaporation, precipitation and heat exchange at the surface which will drive water circulation in the model.\n",
        "\n",
        "## Tips for the Term\n",
        "\n",
        " - We will build up this model gradually. Each of the next three practicals will add one new process to the model. This means that each new practical will contain code that solves the previous practicals.\n",
        " - It will be much easier to understand the model if you keep up with the practicals through the term, rather than leaving them all to the last minute, because...\n",
        " - In the last practical you will be given a choice of two questions for the long section of the lab report. Both of these will require you to modify the model you have built to understand some component of the carbon cycle. You will find it much easier to attempt these if you have worked through all of the preceding practicals.\n",
        "\n",
        "## Packages\n",
        "\n",
        "The code block below will install a package called 'OceanTools', which contains some useful functions that you can use to visualise your model runs."
      ],
      "id": "Wm4_kDaHRGck"
    },
    {
      "cell_type": "code",
      "execution_count": 1,
      "id": "b5b8cc78",
      "metadata": {
        "id": "b5b8cc78",
        "colab": {
          "base_uri": "https://localhost:8080/"
        },
        "outputId": "cdfd4096-c267-43a9-a906-975ec5f0f8d1"
      },
      "outputs": [
        {
          "output_type": "stream",
          "name": "stdout",
          "text": [
            "Cloning into 'OceanTools'...\n",
            "remote: Enumerating objects: 198, done.\u001b[K\n",
            "remote: Counting objects: 100% (75/75), done.\u001b[K\n",
            "remote: Compressing objects: 100% (47/47), done.\u001b[K\n",
            "remote: Total 198 (delta 54), reused 43 (delta 28), pack-reused 123 (from 1)\u001b[K\n",
            "Receiving objects: 100% (198/198), 532.95 KiB | 2.69 MiB/s, done.\n",
            "Resolving deltas: 100% (110/110), done.\n",
            "Collecting cbsyst\n",
            "  Downloading cbsyst-0.4.9-py3-none-any.whl.metadata (9.7 kB)\n",
            "Requirement already satisfied: numpy>=1.13 in /usr/local/lib/python3.11/dist-packages (from cbsyst) (2.0.2)\n",
            "Requirement already satisfied: scipy>=0.18 in /usr/local/lib/python3.11/dist-packages (from cbsyst) (1.14.1)\n",
            "Requirement already satisfied: pandas>=0.19 in /usr/local/lib/python3.11/dist-packages (from cbsyst) (2.2.2)\n",
            "Collecting uncertainties>=3.0 (from cbsyst)\n",
            "  Downloading uncertainties-3.2.2-py3-none-any.whl.metadata (6.9 kB)\n",
            "Requirement already satisfied: tqdm>=4.14 in /usr/local/lib/python3.11/dist-packages (from cbsyst) (4.67.1)\n",
            "Collecting kgen>=0.2.0 (from cbsyst)\n",
            "  Downloading Kgen-0.3.2-py3-none-any.whl.metadata (707 bytes)\n",
            "Collecting pymyami==2.1.0 (from kgen>=0.2.0->cbsyst)\n",
            "  Downloading pymyami-2.1.0-py3-none-any.whl.metadata (5.8 kB)\n",
            "Requirement already satisfied: matplotlib in /usr/local/lib/python3.11/dist-packages (from pymyami==2.1.0->kgen>=0.2.0->cbsyst) (3.10.0)\n",
            "Requirement already satisfied: scikit-learn in /usr/local/lib/python3.11/dist-packages (from pymyami==2.1.0->kgen>=0.2.0->cbsyst) (1.6.1)\n",
            "Requirement already satisfied: python-dateutil>=2.8.2 in /usr/local/lib/python3.11/dist-packages (from pandas>=0.19->cbsyst) (2.8.2)\n",
            "Requirement already satisfied: pytz>=2020.1 in /usr/local/lib/python3.11/dist-packages (from pandas>=0.19->cbsyst) (2025.2)\n",
            "Requirement already satisfied: tzdata>=2022.7 in /usr/local/lib/python3.11/dist-packages (from pandas>=0.19->cbsyst) (2025.2)\n",
            "Requirement already satisfied: six>=1.5 in /usr/local/lib/python3.11/dist-packages (from python-dateutil>=2.8.2->pandas>=0.19->cbsyst) (1.17.0)\n",
            "Requirement already satisfied: contourpy>=1.0.1 in /usr/local/lib/python3.11/dist-packages (from matplotlib->pymyami==2.1.0->kgen>=0.2.0->cbsyst) (1.3.1)\n",
            "Requirement already satisfied: cycler>=0.10 in /usr/local/lib/python3.11/dist-packages (from matplotlib->pymyami==2.1.0->kgen>=0.2.0->cbsyst) (0.12.1)\n",
            "Requirement already satisfied: fonttools>=4.22.0 in /usr/local/lib/python3.11/dist-packages (from matplotlib->pymyami==2.1.0->kgen>=0.2.0->cbsyst) (4.56.0)\n",
            "Requirement already satisfied: kiwisolver>=1.3.1 in /usr/local/lib/python3.11/dist-packages (from matplotlib->pymyami==2.1.0->kgen>=0.2.0->cbsyst) (1.4.8)\n",
            "Requirement already satisfied: packaging>=20.0 in /usr/local/lib/python3.11/dist-packages (from matplotlib->pymyami==2.1.0->kgen>=0.2.0->cbsyst) (24.2)\n",
            "Requirement already satisfied: pillow>=8 in /usr/local/lib/python3.11/dist-packages (from matplotlib->pymyami==2.1.0->kgen>=0.2.0->cbsyst) (11.1.0)\n",
            "Requirement already satisfied: pyparsing>=2.3.1 in /usr/local/lib/python3.11/dist-packages (from matplotlib->pymyami==2.1.0->kgen>=0.2.0->cbsyst) (3.2.3)\n",
            "Requirement already satisfied: joblib>=1.2.0 in /usr/local/lib/python3.11/dist-packages (from scikit-learn->pymyami==2.1.0->kgen>=0.2.0->cbsyst) (1.4.2)\n",
            "Requirement already satisfied: threadpoolctl>=3.1.0 in /usr/local/lib/python3.11/dist-packages (from scikit-learn->pymyami==2.1.0->kgen>=0.2.0->cbsyst) (3.6.0)\n",
            "Downloading cbsyst-0.4.9-py3-none-any.whl (9.0 MB)\n",
            "\u001b[2K   \u001b[90m━━━━━━━━━━━━━━━━━━━━━━━━━━━━━━━━━━━━━━━━\u001b[0m \u001b[32m9.0/9.0 MB\u001b[0m \u001b[31m18.7 MB/s\u001b[0m eta \u001b[36m0:00:00\u001b[0m\n",
            "\u001b[?25hDownloading Kgen-0.3.2-py3-none-any.whl (11 kB)\n",
            "Downloading pymyami-2.1.0-py3-none-any.whl (5.9 MB)\n",
            "\u001b[2K   \u001b[90m━━━━━━━━━━━━━━━━━━━━━━━━━━━━━━━━━━━━━━━━\u001b[0m \u001b[32m5.9/5.9 MB\u001b[0m \u001b[31m29.8 MB/s\u001b[0m eta \u001b[36m0:00:00\u001b[0m\n",
            "\u001b[?25hDownloading uncertainties-3.2.2-py3-none-any.whl (58 kB)\n",
            "\u001b[2K   \u001b[90m━━━━━━━━━━━━━━━━━━━━━━━━━━━━━━━━━━━━━━━━\u001b[0m \u001b[32m58.3/58.3 kB\u001b[0m \u001b[31m2.1 MB/s\u001b[0m eta \u001b[36m0:00:00\u001b[0m\n",
            "\u001b[?25hInstalling collected packages: uncertainties, pymyami, kgen, cbsyst\n",
            "Successfully installed cbsyst-0.4.9 kgen-0.3.2 pymyami-2.1.0 uncertainties-3.2.2\n"
          ]
        }
      ],
      "source": [
        "# This code installs some required packages for the rest of the notebook. Run this once at the start - it should take <30 seconds to run.\n",
        "import os\n",
        "if not os.path.exists('./OceanTools'):\n",
        "    !git clone https://github.com/Quantitative-Environmental-Science/OceanTools.git\n",
        "\n",
        "import sys\n",
        "sys.path.append('./OceanTools')\n",
        "\n",
        "!pip install cbsyst\n",
        "\n",
        "import numpy as np\n",
        "import matplotlib.pyplot as plt"
      ]
    },
    {
      "cell_type": "markdown",
      "id": "b0c6c3fa",
      "metadata": {
        "id": "b0c6c3fa"
      },
      "source": [
        "<img src=\"https://github.com/Quantitative-Environmental-Science/OceanTools/raw/main/figs/Ocean_3box.png\" align=\"right\" width=\"40%\" style=\"align: right; min-width: 30em; margin-left: 3em; margin-right: 3em; margin-bottom: 3em\">\n",
        "\n",
        "## A 3 Box Ocean\n",
        "\n",
        "###  Model Geometry\n",
        "\n",
        "There is a single box representing the deep ocean ($D$), overlain by two boxes representing the surface ocean at the high ($H$) and low ($L$) latitudes. There is a single box representing the atmosphere ($A$) overlying both surface boxes. Each box is modelled as a homogeneous mass with uniform physical and chemical properties.\n",
        "\n",
        "The high latitude surface box represents 15% of the total ocean surface area, and has a depth of 200 m. The low latitude box is 85% of the ocean surface area, with a depth of 100 m. This depth difference reflects geographic variation in the depth of the mixed layer, which tends to be deeper at high latitudes where winds are more intense and waves are larger, and shallower in the tropics where there is more temperature-driven stratification.\n",
        "\n",
        "The first step in constructing our model is to set up the processes that will create a density gradient that causes water to circulate around our boxes.\n",
        "This is conceptually similar to the Lorenz and Stommel models you encountered in the last two practicals, but the geometry of our boxes is different to accommodate the inclusion of biogeochemical processes that operate in the surface ocean.\n",
        "\n",
        "### Physical Ocean Model\n",
        "\n",
        "We must include two mixing processes to describe the movement of water around our model:\n",
        "- **Thermohaline Circulation** ($Q_T$) is a unidirectional current that moves a fixed volume from $L \\rightarrow H \\rightarrow D \\rightarrow L \\rightarrow$ etc. This is driven by density differences between the surface boxes. Water density depends on temperature and salinity, so using the same approach as the last practical we can calculate $Q_T$ as:\n",
        "  $$\n",
        "  Q_T = k (\\alpha \\Delta T - \\beta \\Delta S)\n",
        "  $$\n",
        "  where $\\alpha$ and $\\beta$ convert changes in T and S into density differences and $k$ is a rate constant.\n",
        "\n",
        "- **Surface-Deep Mixing** exchanges water between the deep and surface ocean and takes place in both high and low latitude surface boxes. For convenience, we'll describe this using a mixing timescale for each box ($\\tau_H$ and $\\tau_L$), which is related to a volume flux via:\n",
        "  $$\n",
        "  Q_x = \\frac{V_x}{\\tau_x}\n",
        "  $$"
      ]
    },
    {
      "cell_type": "markdown",
      "id": "e82c122c",
      "metadata": {
        "id": "e82c122c"
      },
      "source": [
        "Using these fluxes we can write down an expression for the change in concentration of a conservative tracer ($C$) in each box:\n",
        "$$\n",
        "\\begin{align}\n",
        "\\frac{dC_L}{dt} &= \\left. \\left(Q_T (C_D - C_L) - \\frac{V_L}{\\tau_{mL}} (C_L - C_D) \\right) \\middle/ V_L \\right. \\\\\n",
        "\\frac{dC_H}{dt} &= \\left. \\left((Q_T (C_L - C_H) - \\frac{V_H}{\\tau_{mH}} (C_H - C_D) \\right) \\middle/ / V_H \\right. \\\\\n",
        "\\frac{dC_D}{dt} &= \\left. \\left((Q_T (C_H - C_D) - \\frac{V_L}{\\tau_{mL}} (C_D - C_L) - \\frac{V_H}{\\tau_{mH}} (C_D - C_H) \\right) \\middle/ / V_D \\right. \\\\\n",
        "\\end{align}\n",
        "$$\n",
        "\n",
        "To drive circulation, we must include temperature ($T$) and salinity ($S$) in the model.\n",
        "\n",
        "### Temperature\n",
        "\n",
        "We will model heat exchange with the atmosphere using an equilibration timescale, $\\tau^T$, which describes how quickly the temperature of a surface box will equilibrate with the overlying atmosphere.\n",
        "\n",
        "$$\n",
        "\\begin{align}\n",
        "\\frac{dT_L}{dt} &= \\left. \\left(Q_T (T_D - T_L) - \\frac{V_L}{\\tau_{mL}} (T_L - T_D) - \\frac{V_L}{\\tau_T} (T_L - T_A ) \\right) \\middle/ V_L \\right. \\\\\n",
        "\\frac{dT_H}{dt} &= \\left. \\left(Q_T (T_L - T_H) - \\frac{V_H}{\\tau_{mH}} (T_H - T_D) - \\frac{V_H}{\\tau_T} (T_H - T_A) \\right) \\middle/ V_H \\right. \\\\\n",
        "\\frac{dT_D}{dt} &= \\left. \\left(Q_T (T_H - T_D) - \\frac{V_L}{\\tau_{mL}} (T_D - T_L) - \\frac{V_H}{\\tau_{mH}} (T_D - T_H) \\right) \\middle/ V_D \\right. \\\\\n",
        "\\end{align}\n",
        "$$\n",
        "\n",
        "### Salinity\n",
        "\n",
        "We will model salinity changes by adding a term that describes the concentration or dilution of water by evaporation or precipitation.\n",
        "This term, $E$, is the total moles of salt added or removed at the surface ocean, and is the same as in the Stommel model.\n",
        "This will be positive in the low latitudes where evaporation dominates (evaporation-precipitation is positive), and negative in the high latitudes where rainfall adds fresh water to the ocean (evaporation-precipitation is negative).\n",
        "\n",
        "$$\n",
        "\\begin{align}\n",
        "\\frac{dS_L}{dt} &= \\left. \\left(Q_T (S_D - S_L) - \\frac{V_L}{\\tau_{mL}} (S_L - S_D) + E \\right) \\middle/ V_L \\right. \\\\\n",
        "\\frac{dS_H}{dt} &= \\left. \\left(Q_T (S_L - S_H) - \\frac{V_H}{\\tau_{mH}} (S_H - S_D) - E \\right) \\middle/ V_H \\right. \\\\\n",
        "\\frac{dS_D}{dt} &= \\left. \\left(Q_T (S_H - S_D) - \\frac{V_L}{\\tau_{mL}} (S_D - S_L) - \\frac{V_H}{\\tau_{mH}} (S_D - S_H) \\right) \\middle/ V_D \\right. \\\\\n",
        "\\end{align}\n",
        "$$"
      ]
    },
    {
      "cell_type": "markdown",
      "id": "81672d21",
      "metadata": {
        "id": "81672d21"
      },
      "source": [
        "### Model Setup\n",
        "\n",
        "#### Global Variables\n",
        "The cell below contains a number of variables that you will use to construct your model."
      ]
    },
    {
      "cell_type": "code",
      "execution_count": 2,
      "id": "71728123-ac4c-4628-bc95-f11de7b74c7f",
      "metadata": {
        "id": "71728123-ac4c-4628-bc95-f11de7b74c7f"
      },
      "outputs": [],
      "source": [
        "# global variables\n",
        "V_ocean = 1.34e18  # volume of the ocean in m3 (note that the 'eX' in python denotes 'x10^X')\n",
        "SA_ocean = 358e12  # surface area of the ocean in m2\n",
        "fSA_hilat = 0.15  # fraction of ocean surface area in 'high latitude' box\n",
        "\n",
        "# variables used to calculate Q\n",
        "Q_alpha = 1e-4\n",
        "Q_beta = 7e-4\n",
        "Q_k = 8.3e17\n",
        "\n",
        "# salinity balance - the total amount of salt added or removed to the surface boxes\n",
        "Fw = 0.1  # low latitude evaporation - precipitation in units of m yr-1\n",
        "Sref = 35  # reference salinity in units of g kg-1\n",
        "E = Fw * SA_ocean * (1 - fSA_hilat) * Sref  # amount of salt added to the low latitude box,  g kg-1 yr-1, ~ kg m-3 yr-1"
      ]
    },
    {
      "cell_type": "markdown",
      "id": "5dcc4040",
      "metadata": {
        "id": "5dcc4040"
      },
      "source": [
        "#### Boxes\n",
        "\n",
        "So far in this course, you have stored individual state variables (e.g. temperature, salinity) in individual arrays.\n",
        "We're going to us a different approach here, because as your model grows you will have to keep track of an increasing number of variables in each box of the model.\n",
        "We're therefore going to keep track of all the attributes and state variables of the model in a `dictionary`.\n",
        "\n",
        "A `dictionary` is a way of storing multiple pieces of labelled data within a single Python variable, which allows you to access the values using the corresponding key. For example:\n",
        "\n",
        "```python\n",
        "# define a dictionary\n",
        "example_dict = {\n",
        "    'name': 'Colin',\n",
        "    'age': 30,\n",
        "}\n",
        "\n",
        "# access a value\n",
        "example_dict['name']\n",
        "\n",
        "  > 30\n",
        "```\n",
        "\n",
        "\n",
        "We define a `dictionary` using curly brackets (`{}`), with multiple `key`: `value` entries separated by commas. The keys and values in a `dictionary` can be anything, including arrays, lists or nested dictionaries, which makes dictionaries a very convenient way to store and access complex data. Further information and examples of how to use dictionaries can be found [here](https://docs.python.org/3/tutorial/datastructures.html#dictionaries).\n",
        "\n",
        "For example, to create the dictionary for the high latitude box:"
      ]
    },
    {
      "cell_type": "code",
      "execution_count": 3,
      "id": "2121cb07",
      "metadata": {
        "id": "2121cb07"
      },
      "outputs": [],
      "source": [
        "# set up initial values for the boxes\n",
        "init_hilat = {\n",
        "    'name': 'hilat',\n",
        "    'depth': 200,  # box depth, m\n",
        "    'SA': SA_ocean * fSA_hilat,  # box surface area, m2\n",
        "    'T': 15.,  # initial water temperature, Celcius\n",
        "    'S': 34.,  # initial salinity\n",
        "    'tau_M': 100.,  # timescale of surface-deep mixing, yr\n",
        "    'T_atmos': 0.,  # air temperature, Celcius\n",
        "    'tau_T': 2.,  # timescale of temperature exchange with atmosphere, yr\n",
        "    'E': -E,  # salt added due to evaporation - precipitation, kg m-3 yr-1\n",
        "}\n",
        "init_hilat['V'] = init_hilat['SA'] *  init_hilat['depth']  # box volume, m3"
      ]
    },
    {
      "cell_type": "markdown",
      "id": "f440bf6d",
      "metadata": {
        "id": "f440bf6d"
      },
      "source": [
        "Create two more dictionaries for the initial values of the low latitude surface and deep boxes and populate them with their initial values. Use the following starting values:\n",
        "\n",
        "| Variable | Lolat | Deep |\n",
        "|---|---|---|\n",
        "| Depth | 100 | - |\n",
        "| $T$ | 15 | 5 |\n",
        "| $S$ | 35 | 34.5 |\n",
        "| $\\tau_M$ | 250 | - |\n",
        "| $T_{A}$ | 25 | - |\n",
        "| $\\tau_T$ | 2 | - |"
      ]
    },
    {
      "cell_type": "code",
      "execution_count": 4,
      "id": "fa7a29c0",
      "metadata": {
        "id": "fa7a29c0"
      },
      "outputs": [],
      "source": [
        "# create your dictionaries called init_lolat and init_deep here\n",
        "init_lolat = {\n",
        "    'name': 'lolat',\n",
        "    'depth': 100,  # box depth, m\n",
        "    'SA': SA_ocean * 0.85,  # box surface area, m2\n",
        "    'T': 15.,  # initial water temperature, Celcius\n",
        "    'S': 35.,  # initial salinity\n",
        "    'tau_M': 250.,  # timescale of surface-deep mixing, yr\n",
        "    'T_atmos': 25.,  # air temperature, Celcius\n",
        "    'tau_T': 2.,  # timescale of temperature exchange with atmosphere, yr\n",
        "    'E': -E,  # salt added due to evaporation - precipitation, kg m-3 yr-1\n",
        "}\n",
        "init_lolat['V'] = init_lolat['SA'] *  init_lolat['depth']\n",
        "\n",
        "init_deep = {\n",
        "    'name': 'deep',\n",
        "    'S': 34.5,\n",
        "    'T': 5,\n",
        "    'V': V_ocean - init_lolat['V'] - init_hilat['V'],\n",
        "}"
      ]
    },
    {
      "cell_type": "markdown",
      "id": "300eb705",
      "metadata": {
        "id": "300eb705"
      },
      "source": [
        "### Creating the Model\n",
        "\n",
        "Next, you need to write the code to calculate the change in concentration of T and S in each box over time.\n",
        "\n",
        "To get you started we've created a template function below with some 'boilerplate' code to set everything up, and some pseudo-code to show you how you might approach writing the model loop.\n",
        "\n",
        "We're going to be making the model as a function so that you can call this function later with different input parameters to see how these parameters affect the model.\n",
        "\n",
        "We suggest splitting the model loop into two stages - first calculate the fluxes, then use these fluxes to update the concentrations in the next time step of the model. This is a bit long-winded, but makes it easier to keep track of what's changing where in the model.\n",
        "\n",
        "If we split the model up like this, we can make some useful efficiencies when we come to code it up. For example, the equations for thermohaline circulation and surface-deep mixing are the same for both temperature and salinity (and any other conservative tracer), so within our main model loop we could use a *second* loop to cycle through each tracer and apply the same mixing calculations to each one.\n",
        "\n",
        "Follow the pseudo-code below to code up the equations for $T$ and $S$ above to create a model for these variables.\n",
        "\n",
        "**Hint**: in the template below we suggest calculating fluxes for specific boxes and variables and storing them in a dictionary. To store these, we need to give them unique names so we can access them later. A good way to do this is using `f-strings`, which allow you to combine variables into strings. For example:\n",
        "\n",
        "```python\n",
        "a = 'Ni!'\n",
        "print(f'We are the knights who say... {a}')\n",
        "```\n",
        "\n",
        "The variable in the curly braces gets inserted into the string.\n",
        "\n",
        "You can use this to generate unique names for the fluxes being calculated, for example:\n",
        "\n",
        "```python\n",
        "for var in model_vars:\n",
        "    fluxes[f'Q_{var}_deep'] = # a calculation...\n",
        "```\n",
        "\n",
        "will allow you to perform the same calculation for each variable, and store the result in a unique name."
      ]
    },
    {
      "cell_type": "code",
      "execution_count": 5,
      "id": "04d25d46",
      "metadata": {
        "id": "04d25d46",
        "colab": {
          "base_uri": "https://localhost:8080/"
        },
        "outputId": "4da72aaf-4507-4531-b2ad-890f3c258fbf"
      },
      "outputs": [
        {
          "output_type": "stream",
          "name": "stdout",
          "text": [
            "100.0\n"
          ]
        }
      ],
      "source": [
        "def ocean_model(lolat, hilat, deep, tmax, dt):\n",
        "    \"\"\"Run the ocean model for a given time period and return the results for each box.\n",
        "\n",
        "    Parameters\n",
        "    ----------\n",
        "    lolat, hilat, deep : dict\n",
        "        dictionaries containing the properties of each box\n",
        "    tmax : int or float\n",
        "        The maximum time to run the model for (yr)\n",
        "    dt : float\n",
        "        The time step of the model (yr)\n",
        "\n",
        "    Returns\n",
        "    -------\n",
        "    tuple of (time, lolat, hilat, deep)\n",
        "    \"\"\"\n",
        "\n",
        "    # create the time scale for the model\n",
        "    time = np.arange(0, tmax + dt, dt)\n",
        "\n",
        "    # identify which variables will change with time\n",
        "    model_vars = ['T', 'S']\n",
        "\n",
        "    # create copies of the input dictionaries so we don't modify the originals\n",
        "    lolat = init_lolat.copy()\n",
        "    hilat = init_hilat.copy()\n",
        "    deep = init_deep.copy()\n",
        "\n",
        "    # turn all time-evolving variables into arrays filled with the start values\n",
        "    for box in [lolat, hilat, deep]:  # this loop goes through each box\n",
        "        for k in model_vars:  # this loop goes through each variable\n",
        "            box[k] = np.full(time.shape, box[k])  # this turns each variable in 'model_vars' in each of the three boxes into an array of the same length as 'time'\n",
        "\n",
        "    fluxes = {}  # A dictionary to keep track of the fluxes calculated at each step\n",
        "\n",
        "    ### LOOP STARTS HERE ###\n",
        "    for i in range(1, time.size):\n",
        "        last = i - 1  # get the index of the previous time step\n",
        "\n",
        "        # 1. calculate the thermohaline circulation flux, Q_T\n",
        "        dT = lolat['T'][last] - hilat['T'][last]\n",
        "        dS = lolat['S'][last] - hilat['S'][last]\n",
        "        Q = Q_k * (Q_alpha * dT - Q_beta * dS)\n",
        "\n",
        "        # 2. calculate all the fluxes\n",
        "\n",
        "        # 2.i calculate the mixing fluxes for each model variable\n",
        "        for var in model_vars:\n",
        "          fluxes[f'Q_{var}_deep'] = Q * (hilat[var][last] - deep[var][last]) * dt  # amount dt-1\n",
        "          fluxes[f'Q_{var}_hilat'] = Q * (lolat[var][last] - hilat[var][last]) * dt  # amount dt-1\n",
        "          fluxes[f'Q_{var}_lolat'] = Q * (deep[var][last] - lolat[var][last]) * dt  # amount dt-1\n",
        "\n",
        "          fluxes[f'vmix_{var}_hilat'] = hilat['V'] / hilat['tau_M'] * (hilat[var][last] - deep[var][last]) * dt  # amount dt-1\n",
        "          fluxes[f'vmix_{var}_lolat'] = lolat['V'] / lolat['tau_M'] * (lolat[var][last] - deep[var][last]) * dt  # amount dt-1\n",
        "\n",
        "        # 2.ii calculate temperature exchange with each surface box\n",
        "        for box in [lolat, hilat]:\n",
        "          boxname = box['name']  # get the name of the box you're working on\n",
        "          fluxes[f'dT_{boxname}'] = box['V'] / box['tau_T'] * (box['T_atmos'] - box['T'][last]) * dt\n",
        "\n",
        "        # 3. use the calculated fluxes to update the state of the model variables in each box\n",
        "\n",
        "        # 3.i apply fluxes to calculate new values in deep box\n",
        "        for var in model_vars:\n",
        "            deep[var][i] = deep[var][last] + (\n",
        "                fluxes[f'Q_{var}_deep'] + fluxes[f'vmix_{var}_hilat'] + fluxes[f'vmix_{var}_lolat']\n",
        "            ) / deep['V']\n",
        "\n",
        "        # 3.ii apply fluxes to calculate new values in surface boxes\n",
        "        for box in [lolat, hilat]:\n",
        "            boxname = box['name']\n",
        "            box['S'][i] = box['S'][last] + (fluxes[f'Q_S_{boxname}'] - fluxes[f'vmix_S_{boxname}'] + box['E'] * dt) / box['V']  # salinity dt-1\n",
        "            box['T'][i] = box['T'][last] + (fluxes[f'Q_T_{boxname}'] - fluxes[f'vmix_T_{boxname}'] + fluxes[f'dT_{boxname}']) / box['V']  # degrees dt-1\n",
        "\n",
        "    # note that the function returns four things here - the time array, and the updated dictionaries for each box\n",
        "    return time, lolat, hilat, deep\n",
        "print(init_hilat['tau_M'])"
      ]
    },
    {
      "cell_type": "markdown",
      "id": "6a319647",
      "metadata": {
        "id": "6a319647"
      },
      "source": [
        "#### Use the function you've just created to run your model\n",
        "\n",
        "Run for 1000 years with a time step of 0.5 years."
      ]
    },
    {
      "cell_type": "code",
      "execution_count": 6,
      "id": "9c28249a",
      "metadata": {
        "id": "9c28249a"
      },
      "outputs": [],
      "source": [
        "time, lolat, hilat, deep = ocean_model(init_lolat, init_hilat, init_deep, 1000, 0.5)\n",
        "# note here that the function gives you back four variables, which is why there are four things on the left of the equals sign!"
      ]
    },
    {
      "cell_type": "markdown",
      "id": "7ec02914",
      "metadata": {
        "id": "7ec02914"
      },
      "source": [
        "### Create plots of $T$ and $S$ over time.\n",
        "\n",
        "We have provided some functions to allow you to visualise the results of the model as a function of time.\n",
        "\n",
        "If you want, you can see how this function works by looking at the source code in `OceanTools/tools/plot.py`"
      ]
    },
    {
      "cell_type": "code",
      "execution_count": 7,
      "id": "4cdd6691",
      "metadata": {
        "id": "4cdd6691",
        "colab": {
          "base_uri": "https://localhost:8080/",
          "height": 368
        },
        "outputId": "4cfeee48-6644-4cfb-9fa1-6d54a56daeda"
      },
      "outputs": [
        {
          "output_type": "display_data",
          "data": {
            "text/plain": [
              "<Figure size 800x340 with 2 Axes>"
            ],
            "image/png": "[encoded data removed]"
          },
          "metadata": {}
        }
      ],
      "source": [
        "from tools import plot  # this imports our custom plotting functions\n",
        "\n",
        "fig, axs = plot.boxes(time, ['T', 'S'], lolat, hilat, deep)\n",
        "# NB this function returns a (fig, axs) in a similar way to the if you created the figure yourself using the subplots command."
      ]
    },
    {
      "cell_type": "markdown",
      "id": "e57c0ba3",
      "metadata": {
        "id": "e57c0ba3"
      },
      "source": [
        "### Sanity Check: How do I know if my model is working correctly?\n",
        "\n",
        "We have provided a 'reference' working version of the ocean model above, which you can use to compare your model against. The working model is stored in compiled python code (`working.pyc`), which you won't be able to read directly. You can import this function using:\n",
        "\n",
        "```python\n",
        "from tools.working import ocean_model_TS\n",
        "\n",
        "# then run the model using:\n",
        "ref_time, ref_lolat, ref_hilat, ref_deep = ocean_model_TS(init_lolat, init_hilat, init_deep, 1000, 0.5)\n",
        "\n",
        "fig, axs = plot.boxes(ref_time, ['T', 'S'], ref_lolat, ref_hilat, ref_deep)\n",
        "\n",
        "```"
      ]
    },
    {
      "cell_type": "code",
      "execution_count": 8,
      "id": "F4mxisBzlQWN",
      "metadata": {
        "id": "F4mxisBzlQWN",
        "colab": {
          "base_uri": "https://localhost:8080/",
          "height": 368
        },
        "outputId": "01c2d7c3-bbbb-40a4-e786-fe113f5a43c7"
      },
      "outputs": [
        {
          "output_type": "display_data",
          "data": {
            "text/plain": [
              "<Figure size 800x340 with 2 Axes>"
            ],
            "image/png": "[encoded data removed]"
          },
          "metadata": {}
        }
      ],
      "source": [
        "from tools.working import ocean_model_TS\n",
        "\n",
        "# then run the model using:\n",
        "ref_time, ref_lolat, ref_hilat, ref_deep = ocean_model_TS(init_lolat, init_hilat, init_deep, 1000, 0.5)\n",
        "\n",
        "fig, axs = plot.boxes(ref_time, ['T', 'S'], ref_lolat, ref_hilat, ref_deep)"
      ]
    },
    {
      "cell_type": "markdown",
      "id": "2eV40cO3VdGW",
      "metadata": {
        "id": "2eV40cO3VdGW"
      },
      "source": [
        "## Think:\n",
        "\n",
        "1. What are the equilibrium temperature and salinity in each box (how would you extract this information from the model outputs). How realistic are these temperatures? Why might it be different to the real world?\n"
      ]
    },
    {
      "cell_type": "code",
      "execution_count": null,
      "id": "b0E0PstuVfar",
      "metadata": {
        "id": "b0E0PstuVfar",
        "colab": {
          "base_uri": "https://localhost:8080/"
        },
        "outputId": "bb47d42e-3032-4fdb-8483-6ed391fb5f82"
      },
      "outputs": [
        {
          "output_type": "stream",
          "name": "stdout",
          "text": [
            "T for lolat: 23.17516419168658 hilat: 4.238149737697822 deep: 4\n",
            "S for lolat: 32.24221432344574 hilat: 31.610111255324426 deep: 32.94435901793016\n"
          ]
        }
      ],
      "source": [
        "# Extract the final values of T and S from the model boxes here\n",
        "T_lolat = lolat['T'][-1]\n",
        "S_lolat = lolat['S'][-1]\n",
        "T_hilat = hilat['T'][-1]\n",
        "S_hilat = hilat['S'][-1]\n",
        "# Extract the final values of T and S from the model boxes here\n",
        "T_lolat = lolat['T'][-1]\n",
        "S_lolat = lolat['S'][-1]\n",
        "T_hilat = hilat['T'][-1]\n",
        "S_hilat = hilat['S'][-1]\n",
        "T_deep = deep['T'][-1]\n",
        "S_deep = deep['S'][-1]\n",
        "print('T for lolat:', T_lolat, 'hilat:', T_hilat, 'deep:', T_deep)\n",
        "print('S for lolat:', S_lolat, 'hilat:', S_hilat, 'deep:', S_deep)"
      ]
    },
    {
      "cell_type": "markdown",
      "id": "4QaNqDRKVgvh",
      "metadata": {
        "id": "4QaNqDRKVgvh"
      },
      "source": [
        "2. Compare the equilibration times of temperature and salinity in the low latitude surface. Why are they different?\n",
        "3. Why do the surface ocean boxes equilibrate so much faster than the deep ocean?\n",
        "4. Is the response of the deep or shallow boxes more similar to the Stommel model in the last practical? Why?\n",
        "5. How realistic is it to represent the deep ocean as a single box? What would be the consequences of doing this?"
      ]
    },
    {
      "cell_type": "markdown",
      "id": "083e06f6",
      "metadata": {
        "id": "083e06f6"
      },
      "source": [
        "## Lab Report Question 3: Sensitivity to Surface-Deep Exchange ($\\tau_M$)\n",
        "\n",
        "Using the model you have created above, investigate how the temperature and salinity of each box change if you halve or double the surface-deep mixing timescale ($\\tau_M$).\n",
        "\n",
        "1. Make a plot of T and S in the `hilat` box. You should see that the temperature equilibrates much faster than the salinity. Why is this?\n",
        "2. Describe how these results compare to the Stommel model in the last practical.\n",
        "\n",
        "*Hint: When modifying an input variable, it's useful to create a copy of the original input dictionary so you can reset the model conditions without re-running the entire notebook, for example:*\n",
        "\n",
        "```python\n",
        "# make copies of the original input dictionaries:\n",
        "orig_lolat = init_lolat.copy()\n",
        "orig_hilat = init_hilat.copy()\n",
        "orig_deep = init_deep.copy()\n",
        "\n",
        "# [your code here, which modifies the init_X dictionaries]\n",
        "\n",
        "# at the end of your code, restore the input dictionaries to their original values:\n",
        "init_lolat = orig_lolat\n",
        "init_hilat = orig_hilat\n",
        "init_deep = orig_deep\n",
        "```\n",
        "\n",
        "*Plotting Hint: the `plot.boxes` function we provided above might be useful in making these plots. Take a lot at the help text for the function - you can provide your own axes for it to draw the graphs on, change the style of the lines, and provide specific labels to put in the legend, for example:*\n",
        "\n",
        "```python\n",
        "plot.boxes(time, model_vars, hilat, axs=axs, ls='--', label='an interesting scenario')\n",
        "```\n",
        "This will then be appended to the plot label, in this case as `hilat: an interesting scenario`."
      ]
    },
    {
      "cell_type": "code",
      "execution_count": null,
      "metadata": {
        "id": "mdcRCyEcRGct",
        "colab": {
          "base_uri": "https://localhost:8080/",
          "height": 887
        },
        "outputId": "98735a24-ca28-4d3b-e375-35068b62dfd6"
      },
      "outputs": [
        {
          "output_type": "display_data",
          "data": {
            "text/plain": [
              "<Figure size 640x480 with 1 Axes>"
            ],
            "image/png": "[encoded data removed]"
          },
          "metadata": {}
        },
        {
          "output_type": "display_data",
          "data": {
            "text/plain": [
              "<Figure size 640x480 with 1 Axes>"
            ],
            "image/png": "[encoded data removed]"
          },
          "metadata": {}
        }
      ],
      "source": [
        "# Do it here!\n",
        "orig_lolat = init_lolat.copy()\n",
        "orig_hilat = init_hilat.copy()\n",
        "orig_deep = init_deep.copy()\n",
        "\n",
        "# [your code here, which modifies the init_X dictionaries]\n",
        "\n",
        "################################### halved\n",
        "init_lolat['tau_M'] = init_lolat['tau_M'] / 2\n",
        "init_hilat['tau_M'] = init_hilat['tau_M'] / 2\n",
        "\n",
        "\n",
        "time_halved, lolat_halved, hilat_halved, deep_halved = ocean_model(init_lolat, init_hilat, init_deep, 1000, 0.5)\n",
        "#fig, axs = plot.boxes(time, ['T', 'S'],hilat_halved,label='Halved deep mixing timescale')\n",
        "#axs[1].set_ylim(33.5, 34)\n",
        "#axs[1].set_xlim(0, 200)\n",
        "init_lolat = orig_lolat\n",
        "init_hilat = orig_hilat\n",
        "init_deep = orig_deep\n",
        "\n",
        "\n",
        "############################### doubled\n",
        "orig_lolat = init_lolat.copy()\n",
        "orig_hilat = init_hilat.copy()\n",
        "orig_deep = init_deep.copy()\n",
        "\n",
        "\n",
        "init_lolat['tau_M'] = init_lolat['tau_M'] * 2\n",
        "init_hilat['tau_M'] = init_hilat['tau_M'] * 2\n",
        "\n",
        "\n",
        "time_doubled, lolat_doubled, hilat_doubled, deep_doubled = ocean_model(init_lolat, init_hilat, init_deep, 1000, 0.5)\n",
        "#fig, axs = plot.boxes(time, ['T', 'S'],hilat_doubled,label='Doubled deep mixing timescale')\n",
        "#axs[1].set_ylim(33.5, 34)\n",
        "#axs[1].set_xlim(0, 200)\n",
        "init_lolat = orig_lolat\n",
        "init_hilat = orig_hilat\n",
        "init_deep = orig_deep\n",
        "\n",
        "plt.plot(time,hilat_halved['S'],label='Halved deep mixing timescale')\n",
        "plt.plot(time,hilat_doubled['S'],label='Doubled deep mixing timescale')\n",
        "plt.legend()\n",
        "plt.title('Salinity')\n",
        "plt.show()\n",
        "\n",
        "plt.plot(time,hilat_halved['T'],label='Halved deep mixing timescale')\n",
        "plt.plot(time,hilat_doubled['T'],label='Doubled deep mixing timescale')\n",
        "plt.legend()\n",
        "plt.title('Temperature')\n",
        "plt.show()\n",
        "\n",
        "\n"
      ],
      "id": "mdcRCyEcRGct"
    },
    {
      "cell_type": "markdown",
      "source": [
        "**Questions**\n",
        "\n",
        "1."
      ],
      "metadata": {
        "id": "eXBT71DUZwD_"
      },
      "id": "eXBT71DUZwD_"
    }
  ],
  "metadata": {
    "colab": {
      "provenance": []
    },
    "kernelspec": {
      "display_name": "Python 3.9.6 64-bit",
      "language": "python",
      "name": "python3"
    },
    "language_info": {
      "codemirror_mode": {
        "name": "ipython",
        "version": 3
      },
      "file_extension": ".py",
      "mimetype": "text/x-python",
      "name": "python",
      "nbconvert_exporter": "python",
      "pygments_lexer": "ipython3",
      "version": "3.11.6"
    },
    "vscode": {
      "interpreter": {
        "hash": "31f2aee4e71d21fbe5cf8b01ff0e069b9275f58929596ceb00d14d90e3e16cd6"
      }
    }
  },
  "nbformat": 4,
  "nbformat_minor": 5
}