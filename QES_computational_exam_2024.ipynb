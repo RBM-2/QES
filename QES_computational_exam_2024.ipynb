{
  "cells": [
    {
      "cell_type": "markdown",
      "metadata": {
        "id": "FxYn1eqw5R7V"
      },
      "source": [
        "# QES Computational Exam 2024 : Water Pollution\n",
        "\n",
        "## Instructions\n",
        "\n",
        "Like every QES practical you have taken this year, begin by copying this notebook to your own Google Drive.\n",
        "\n",
        "This exam lasts **two hours** (unless you have extra time) and consists of **11 questions**. All questions should be attempted, and are weighted equally.\n",
        "\n",
        "The exam is open book and you have full access to the internet and any physical notes you bring with you, but **you are not allowed to communicate with any other person or AI interface during the exam**.\n",
        "\n",
        "Some questions involve performing operations on the data that are necessary to complete subsequent questions. Where this is the case, we provide a 'shortcut' to skip the question if you have not been able to perform those operations. This provides a pre-processed version of the data that you can use to continue with the exam. There is no penalty to using a shortcut, but for full credit you must write the code to answer the question yourself. If you have attempted the question but end up using the shortcut, you may still receive partial credit for your attempt to the question.\n",
        "\n",
        "You can either complete the exam on Google Colab or your editor of choice (e.g. VS Code), but note that the exam has only been tested in Google Colab and we can offer no assistance with technical issues arising from attempting the exam outside Google Colab. If you choose to complete the exam using an editor on your own computer, any associated AI-coding aids (e.g. GitHub Copilot) must be disabled.\n",
        "\n",
        "Answers to questions might consist of code, text, plots, or a combination of these. A comment in a code cell (prepended by `#`) or the output of some code that you have run (e.g. a printout of a dataframe) are both valid ways to answer a question.\n",
        "\n",
        "## Submission\n",
        "\n",
        "At the end of the exam, you will be asked to download both this notebook file (`File > Download > Download .ipynb`) and a pdf of the notebook (`File > Print > Save as PDF`), then submit both documents to Moodle ([here](https://www.vle.cam.ac.uk/mod/assign/view.php?id=19133805)) **named with your BGN**. This can be done *after* the end of the exam.\n",
        "\n",
        "# Start of Exam\n",
        "\n",
        "The data file at URL below has been extracted from the [Environment Agency Water Quality Archive](https://environment.data.gov.uk/water-quality/view/landing). It contains water quality monitoring data from multiple sampling sites in the catchment of the river Wensum in Norfolk, UK. This dataset contains measurements of nitrate (called `N Oxidised`) concentration in river water.\n",
        "\n",
        "## 1. About the Data\n",
        "\n",
        "1. Who should you contact if you have questions about the data?\n",
        "2. Where would you look to find out more information about what the columns in the dataset contain?\n",
        "3. What is the earliest year included in the dataset?\n",
        "4. Are there any significant caveats to the measurements that might affect how you interpret the patterns in the data?"
      ]
    },
    {
      "cell_type": "markdown",
      "metadata": {
        "id": "TVnpVu1o5R7a"
      },
      "source": [
        "*Write your answers in this cell (double click to edit)*\n",
        "\n",
        "1.\n",
        "2.\n",
        "3.\n",
        "4."
      ]
    },
    {
      "cell_type": "markdown",
      "metadata": {
        "id": "xx1vQ7gy5R7b"
      },
      "source": [
        "## 2. Import the Data\n",
        "\n",
        "The .csv file at the url below contains nitrate data (labelled as `N Oxidised`) from multiple sampling sites. Import this file into a pandas dataframe. Ensure all columns are correctly imported and parsed, and sort the data by both the sample site and date.\n",
        "\n",
        "> **Hint:** If you would like to look at the raw file to work out how to import it, you can paste the url below into your browser to download the data file to your computer.\n",
        "\n",
        "> **Shortcut:** If you are unable to import and process the data as required in the question, you may run the code below to import a pre-prepared version of the dataset. If you do this, you may still receive partial credit for your attempt to Question 1.\n",
        ">```python\n",
        ">import pandas as pd\n",
        ">dat = pd.read_pickle('https://drive.google.com/uc?id=1u7_O-HmmJYxStl_oj48g9C0OKfZ0xZjv')\n",
        ">\n",
        "> ```"
      ]
    },
    {
      "cell_type": "code",
      "execution_count": null,
      "metadata": {
        "id": "RYbUfve15R7b"
      },
      "outputs": [],
      "source": [
        "nitrate_url = 'https://drive.google.com/uc?id=1Sw2HppqcIYwSsy4ZTBAhsKKgMrWhX0tA'"
      ]
    },
    {
      "cell_type": "code",
      "execution_count": null,
      "metadata": {
        "id": "mELshRFL5R7d"
      },
      "outputs": [],
      "source": [
        "# write your code here"
      ]
    },
    {
      "cell_type": "markdown",
      "metadata": {
        "id": "PfNmxyGh5R7e"
      },
      "source": [
        "## 3. About the Data\n",
        "\n",
        "Conduct an initial exploration of the data.\n",
        "\n",
        "1. How many unique sample sites are there in the dataset?\n",
        "2. How many measurements of have been made at each sampling site?\n",
        "3. For the sample site with the most measurements, find the site code (e.g. `AN-WEN235A`), site description, and the type of water body is being measured."
      ]
    },
    {
      "cell_type": "code",
      "execution_count": null,
      "metadata": {
        "id": "nZfXCpvW5R7e"
      },
      "outputs": [],
      "source": [
        "# 1. How many unique sample sites are there in the dataset?\n",
        "\n",
        "# write your code and answer here."
      ]
    },
    {
      "cell_type": "code",
      "execution_count": null,
      "metadata": {
        "id": "oKz0Pa1x5R7g"
      },
      "outputs": [],
      "source": [
        "# 2. How many measurements have been made at each sampling site?\n",
        "\n",
        "# write your code and answer here"
      ]
    },
    {
      "cell_type": "code",
      "execution_count": null,
      "metadata": {
        "id": "sIo-TN_H5R7h"
      },
      "outputs": [],
      "source": [
        "# 3. What is the site code and description for the site that as the most measurements, and what type of water body is being meaured?\n",
        "\n",
        "# write your code and answer here"
      ]
    },
    {
      "cell_type": "markdown",
      "metadata": {
        "id": "LJcS0XjZ5R7i"
      },
      "source": [
        "## 4. Plot Time Series\n",
        "\n",
        "Create a plot of the `N Oxidised` measurements over time at the sample site with the most measurements. Label your axes appropriately."
      ]
    },
    {
      "cell_type": "code",
      "execution_count": null,
      "metadata": {
        "id": "x2NLnewH5R7i"
      },
      "outputs": [],
      "source": [
        "# write your code here"
      ]
    },
    {
      "cell_type": "markdown",
      "metadata": {
        "id": "YVYu0UuO5R7i"
      },
      "source": [
        "# 5. Water Quality Standards\n",
        "\n",
        "The EU Water Frameworks Directive (WFD) sets threshold values for a number of water quality parameters that can be used to assess the qualitative health of a water body. These can be used to assign a 'status' to the water body, with options 'bad', 'poor', 'moderate', 'good', and 'high'. The thresholds for a few parameters are below:\n",
        "\n",
        "| Parameter | Bad | Poor | Moderate | Good | High |\n",
        "|-----------|-----|------|----------|------|------|\n",
        "| Ammonium  | >2.5 | 2.5-1.1  | 1.1-0.6 | 0.6-0.3  | <0.3  |\n",
        "| Nitrate   | >11.3 | 11.3-5.6 | 5.6-3.6 | 3.6-0.8 | <0.8 |\n",
        "| Phosphate | >1 | 1-0.17 | 0.17-0.07 | 0.07-0.03 | <0.03 |\n",
        "\n",
        "The plot below shows the measurements of nitrate concentration at the site you plotted in Q4.\n",
        "\n",
        "![Q5 Figure](https://drive.google.com/uc?id=1zgzMP4hCq2DB0vBIEf3KUrmFa-_GGuAv)\n",
        "\n",
        "Write code to reproduce this plot from the raw data."
      ]
    },
    {
      "cell_type": "code",
      "execution_count": null,
      "metadata": {
        "id": "r_jQUwTp5R7j"
      },
      "outputs": [],
      "source": [
        "# write your code here"
      ]
    },
    {
      "cell_type": "markdown",
      "metadata": {
        "id": "_x76RB2C5R7j"
      },
      "source": [
        "## 6. Considering Multiple Sites\n",
        "\n",
        "So far, we have only considered a single sampling site in the catchment. To get a better understanding of what is going at the larger scale, we need to combine data from all sites in the catchment.\n",
        "\n",
        "Because each stream has been sampled at different frequencies which do not overlap, we must do this in two steps: first, calculate a monthly average value for *each* site, then combine the monthly averages for all sites to create a catchment-scale average for each month.\n",
        "\n",
        "We suggest you do this in four smaller steps:\n",
        "\n",
        "1. Create a subset of the dataset containing only the columns `sample.samplingPoint.notation, sample.sampleDateTime, result`.\n",
        "2. Combine the `groupby`, `resample` and `mean` methods to calculate a monthly average value for `'N Oxidised'` at each sampling site.\n",
        "3. Drop all `nan` values from this new dataset.\n",
        "4. Use `groupby` again, this time combined with the `aggregate` method to calculate the monthly mean (`'mean'`) and standard deviation (`'std'`) across all sites for each determinand.\n",
        "\n",
        "You should end up with a dataframe with row labels of `sample.sampleDateTime`, and column labels of `mean` and `std` for the `result` variable.\n",
        "\n",
        "> **Hint:** You have not used the `resample` method before. You can find more information about it [here](https://pandas.pydata.org/pandas-docs/stable/reference/api/pandas.DataFrame.resample.html). You should use it with `rule='M'` to resample by month.\n",
        "\n",
        "> **Shortcut:** If you are unable to perform these operations on the data, you may run the code below to import a pre-processed version of the dataset and continue with the exam. If you do this, you may still receive partial credit for your attempt to Question 6.\n",
        ">```python\n",
        ">monthly = pd.read_pickle('https://drive.google.com/uc?id=1VfUXU_2RoDl8jGQL7Wsx885j0wDwWnts')\n",
        ">\n",
        "> ```\n"
      ]
    },
    {
      "cell_type": "code",
      "execution_count": null,
      "metadata": {
        "id": "qPypLo855R7j"
      },
      "outputs": [],
      "source": [
        "# write your code here"
      ]
    },
    {
      "cell_type": "markdown",
      "metadata": {
        "id": "_EU7ofXE5R7k"
      },
      "source": [
        "## 7. Plot the average values, and compare to the single site.\n",
        "\n",
        "1. Create a plot showing the monthly average nitrate concentration across all sites in the catchment, and show the variability across sites by plotting a shaded envelope showing the standard deviation at each time point.\n",
        "2. Draw the WFD threshold values on the plot as horizontal lines in the same colours as the plot above.\n",
        "3. Plot the monthly average values from the single site above on the same plot, and calculate how often the single is above or below the catchment average. Was the single site representative of the wider catchment in terms of WFD status?"
      ]
    },
    {
      "cell_type": "code",
      "execution_count": null,
      "metadata": {
        "id": "QiatG0yM5R7k"
      },
      "outputs": [],
      "source": [
        "# write your code and answer here"
      ]
    },
    {
      "cell_type": "markdown",
      "metadata": {
        "id": "iiG6ZHZO5R7k"
      },
      "source": [
        "## 8. Adding Ammonium Data\n",
        "\n",
        "The code in the cell below will import a second dataset containing measurements of ammonium in the same catchment in mg/l.\n",
        "\n",
        "This data has already been processed in the same way as in Q6 above.\n",
        "\n",
        "Import this dataset, and merge it with the nitrate dataset you have been working with.\n",
        "\n",
        "> **Shortcut:** If you are unable to perform these operations on the data, you may run the code below to import a pre-processed version of the dataset and continue with the exam. If you do this, you may still receive partial credit for your attempt to Question 8.\n",
        ">```python\n",
        ">combined = pd.read_pickle('https://drive.google.com/uc?id=1aH301dC6Npzq0W_46k61ZYRb5zrs1jEA')\n",
        ">\n",
        "> ```"
      ]
    },
    {
      "cell_type": "code",
      "execution_count": null,
      "metadata": {
        "id": "p-9QdwB_5R7l"
      },
      "outputs": [],
      "source": [
        "# Run this cell to import the ammonium data\n",
        "ammonium_data = pd.read_pickle('https://drive.google.com/uc?id=1KFLDwjhJyG9ykqU0jL0ORSLCgpYett9q')"
      ]
    },
    {
      "cell_type": "code",
      "execution_count": null,
      "metadata": {
        "id": "8eiA3qY85R7l"
      },
      "outputs": [],
      "source": [
        "# write your code here"
      ]
    },
    {
      "cell_type": "markdown",
      "metadata": {
        "id": "V3Aq0JMK5R7l"
      },
      "source": [
        "## 9. Plot nitrate and ammonia data\n",
        "\n",
        "Create a two-panel figure showing the monthly average nitrate and ammonium concentrations in the catchment with shaded error envelopes showing the standard deviations. The plots should have a shared x-axis, and be labelled appropriately."
      ]
    },
    {
      "cell_type": "code",
      "execution_count": null,
      "metadata": {
        "id": "FL92G3Kb5R7l"
      },
      "outputs": [],
      "source": [
        "# write your code here"
      ]
    },
    {
      "cell_type": "markdown",
      "metadata": {
        "id": "Y1rdCtze5R7m"
      },
      "source": [
        "## 10. Are the pollutants from the same source?\n",
        "\n",
        "Create a cross-plot of monthly mean nitrate and ammonia.\n",
        "\n",
        "Calculate the Pearson correlation coefficient between these pollutants, and annotate the plot with the correlation statistics ($R$ and $p$ values).\n",
        "\n",
        "**If** the correlation is significant (p<0.05), draw the line of best fit on the graph.\n",
        "\n",
        "Do you think these pollutants are likely to be from the same source? Why or why not?"
      ]
    },
    {
      "cell_type": "code",
      "execution_count": null,
      "metadata": {
        "id": "5S3Wcta85R7m"
      },
      "outputs": [],
      "source": [
        "# write you code and answer here"
      ]
    },
    {
      "cell_type": "markdown",
      "metadata": {
        "id": "Y9oJbPzw5R7n"
      },
      "source": [
        "## 11. Catchment status through time\n",
        "\n",
        "The WFD classification of a water body is based on the worst-performing metric in the catchment (i.e. if nitrate is 'good' but ammonia is 'bad', the final classification is 'bad').\n",
        "\n",
        "Create a multi-panel plot with three axes, one on each row, showing how the classification of the Wensum catchment changes with time according to monthly average concentrations of nitrate, ammonium, and a combination of both pollutants (i.e. catchment status on the y-axes, time on the x-axis)."
      ]
    },
    {
      "cell_type": "code",
      "execution_count": null,
      "metadata": {
        "id": "eYPWpQgi5R7n"
      },
      "outputs": [],
      "source": [
        "# write your code here"
      ]
    }
  ],
  "metadata": {
    "kernelspec": {
      "display_name": "py3",
      "language": "python",
      "name": "python3"
    },
    "language_info": {
      "codemirror_mode": {
        "name": "ipython",
        "version": 3
      },
      "file_extension": ".py",
      "mimetype": "text/x-python",
      "name": "python",
      "nbconvert_exporter": "python",
      "pygments_lexer": "ipython3",
      "version": "3.11.8"
    },
    "colab": {
      "provenance": []
    }
  },
  "nbformat": 4,
  "nbformat_minor": 0
}