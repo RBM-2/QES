{
  "cells": [
    {
      "cell_type": "markdown",
      "metadata": {
        "id": "LI8Sx5tbWFKU"
      },
      "source": [
        "# QES Computational Exam 2023 : Global CO<sub>2</sub> Emissions Data\n",
        "\n",
        "The data file `https://edgar.jrc.ec.europa.eu/booklet/EDGARv7.0_FT2021_fossil_CO2_booklet_2022.xlsx` contains CO2 emissions data for all world countries from 1970-2021. The data file was downloaded from [this page](https://edgar.jrc.ec.europa.eu/report_2022#:~:text=In%202020%20global%20fossil%20CO2,pre%2Dpandemic%20CO2%20emission%20levels.); you should download this data file to your computer so you can open and examine it.\n",
        "\n",
        "The exam lasts **one hour** (unless you have extra time) and consists of **seven questions**, all of which should be answered.\n",
        "\n",
        "### Submission Instructions\n",
        "\n",
        "At the end of the exam, you will be asked to download this notebook (`File > Download > Download .ipynb`) and print a pdf (`File > Print > Save as PDF`), then submit both documents to Moodle ([here](https://www.vle.cam.ac.uk/mod/assign/view.php?id=18911743)) **named with your BGN**. This can be done *after* the end of the one hour spent answering the questions.\n",
        "\n",
        "The exam is open book. You have full access to the internet, but the use of AI tools is strictly prohibited.\n",
        "\n",
        "# Start of Exam\n",
        "\n",
        "## 1. About the Data\n",
        "\n",
        "1. When was the data released?\n",
        "2. Who should you contact if you have questions about the data?\n",
        "3. What units are the data in?\n",
        "4. Are there any significant caveats to the data that might affect how you interpret it?"
      ]
    },
    {
      "cell_type": "markdown",
      "metadata": {
        "id": "RWwN-9byWFKY"
      },
      "source": [
        "[Write your answers in this cell]\n",
        "\n",
        "1.\n",
        "2.\n",
        "3.\n",
        "4."
      ]
    },
    {
      "cell_type": "markdown",
      "metadata": {
        "id": "qbJwsug-WFKZ"
      },
      "source": [
        "## 2. Import the Data\n",
        "\n",
        "The spreadsheet contains multiple tabs. We will be working with the data in the tab labelled `fossil_CO2_totals_by_country`.\n",
        "\n",
        "1. Import the data in the tab called `'fossil_CO2_totals_by_country'` into a `pandas` dataframe\n",
        "2. Set the `index` of the dataframe to be the `Country` column.\n",
        "3. `drop` the 'Substance' and 'EDGAR Country Code' columns from the dataframe."
      ]
    },
    {
      "cell_type": "code",
      "execution_count": null,
      "metadata": {
        "id": "CZb0swnHWFKZ"
      },
      "outputs": [],
      "source": [
        "# Write your answer here"
      ]
    },
    {
      "cell_type": "markdown",
      "metadata": {
        "id": "XrPwRjIDWFKb"
      },
      "source": [
        "## 3. Plot Global CO<sub>2</sub> Emissions\n",
        "\n",
        "Plot the total global CO<sub>2</sub> emissions, which are already calculated as a row in the dataset, from 1970 to 2021. Annotate your graph appropriately."
      ]
    },
    {
      "cell_type": "code",
      "execution_count": null,
      "metadata": {
        "id": "7MC8yWdgWFKb"
      },
      "outputs": [],
      "source": [
        "# Write your answer here"
      ]
    },
    {
      "cell_type": "markdown",
      "metadata": {
        "id": "kYUu1Wk7WFKb"
      },
      "source": [
        "## 4. Top 5 Emitters?\n",
        "\n",
        "Which five countries emit the most CO2 in 2021? Plot the emissions from these countries from 1970 to 2021. Annotate your graph appropriately.\n",
        "\n"
      ]
    },
    {
      "cell_type": "code",
      "execution_count": null,
      "metadata": {
        "id": "ngjquX8oWFKc"
      },
      "outputs": [],
      "source": [
        "# Write your answer here"
      ]
    },
    {
      "cell_type": "markdown",
      "metadata": {
        "id": "4mqtyEa1WFKd"
      },
      "source": [
        "## 5. Emissions as a percentage of global total.\n",
        "\n",
        "Calculate a new dataframe that contains emissions as a fraction of the global total. Plot the emissions of the top 5 emitting countries as a percentage of the global total. Annotate your graph appropriately."
      ]
    },
    {
      "cell_type": "code",
      "execution_count": null,
      "metadata": {
        "id": "GecAEL15WFKd"
      },
      "outputs": [],
      "source": [
        "# Write your answer here"
      ]
    },
    {
      "cell_type": "markdown",
      "metadata": {
        "id": "xqPq3DJ3WFKd"
      },
      "source": [
        "## 6. Increase or Decrease?\n",
        "\n",
        "Calculate the change in emissions of each country between 1970 and 2021. Create a bar chart showing how the emissions of the 10 countries that have increased most and the 10 that have decreased most have changed over this period. Annotate your graph appropriately.\n",
        "\n",
        "*Hint: you may find it useful to make a copy of your dataframe that excludes the rows indexed `'GLOBAL TOTAL'`, '`EU27'` and `np.nan` to do this.*"
      ]
    },
    {
      "cell_type": "code",
      "execution_count": null,
      "metadata": {
        "id": "kHTQqouSWFKd"
      },
      "outputs": [],
      "source": [
        "# Write your answer here"
      ]
    },
    {
      "cell_type": "markdown",
      "metadata": {
        "id": "N3IF_2nPWFKe"
      },
      "source": [
        "## 7. Top 5 Emitters through time.\n",
        "\n",
        "The 'top 5' emitters has not been constant through time. Create a graph showing how the identity of the top 5 emitting countries have changed between 1970 and 2021 (i.e. time on the x-axis, and country rank from 1-5 on the y axis). Annotate your graph appropriately.\n",
        "\n",
        "*Hint: the `.rank` method of your dataframe will allow you to rank the emissions of each country from highest to lowest in each year.*"
      ]
    },
    {
      "cell_type": "code",
      "execution_count": null,
      "metadata": {
        "id": "tpZ7QnVkWFKe"
      },
      "outputs": [],
      "source": [
        "# Write your answer here"
      ]
    }
  ],
  "metadata": {
    "kernelspec": {
      "display_name": "py3",
      "language": "python",
      "name": "python3"
    },
    "language_info": {
      "codemirror_mode": {
        "name": "ipython",
        "version": 3
      },
      "file_extension": ".py",
      "mimetype": "text/x-python",
      "name": "python",
      "nbconvert_exporter": "python",
      "pygments_lexer": "ipython3",
      "version": "3.11.3"
    },
    "orig_nbformat": 4,
    "colab": {
      "provenance": []
    }
  },
  "nbformat": 4,
  "nbformat_minor": 0
}