{
  "cells": [
    {
      "cell_type": "markdown",
      "metadata": {},
      "source": [
        "# Data Analysis, Statistics, and Plotting Techniques in Python\n",
        "\n",
        "This notebook demonstrates foundational data analysis, statistics, and plotting techniques using pandas, numpy, and matplotlib in Python. Each step includes a code example and a brief explanation."
      ]
    },
    {
      "cell_type": "markdown",
      "metadata": {},
      "source": [
        "## 1. Importing Libraries\n",
        "We'll need pandas for data manipulation, numpy for statistics, and matplotlib for plotting."
      ]
    },
    {
      "cell_type": "code",
      "metadata": {},
      "source": [
        "import pandas as pd\n",
        "import numpy as np\n",
        "import matplotlib.pyplot as plt"
      ]
    },
    {
      "cell_type": "markdown",
      "metadata": {},
      "source": [
        "## 2. Data Importing\n",
        "Read a CSV file from a URL, specifying delimiters and comment characters as needed."
      ]
    },
    {
      "cell_type": "code",
      "metadata": {},
      "source": [
        "url = 'https://gml.noaa.gov/webdata/ccgg/trends/co2/co2_mm_mlo.txt'\n",
        "df = pd.read_csv(url, sep='\\s+', comment='#', header=None)\n",
        "df.head()"
      ]
    },
    {
      "cell_type": "markdown",
      "metadata": {},
      "source": [
        "## 3. Assigning Column Names\n",
        "If your data lacks headers, assign them manually for clarity."
      ]
    },
    {
      "cell_type": "code",
      "metadata": {},
      "source": [
        "df.columns = ['year', 'month', 'decimal_year', 'average', 'deseasonalised', 'no_days', 'std_of_days', 'unc_of_mean']\n",
        "df.head()"
      ]
    },
    {
      "cell_type": "markdown",
      "metadata": {},
      "source": [
        "## 4. Viewing and Exploring Data\n",
        "Use `.head()`, `.columns`, and `.describe()` to inspect your dataset."
      ]
    },
    {
      "cell_type": "code",
      "metadata": {},
      "source": [
        "print(\"Columns:\", df.columns.tolist())\n",
        "df.describe()"
      ]
    },
    {
      "cell_type": "markdown",
      "metadata": {},
      "source": [
        "## 5. Accessing Data (Indexing)\n",
        "- Dot notation: `df.average`\n",
        "- Bracket notation: `df['average']`\n",
        "- `.loc` for rows and columns: `df.loc[4, 'decimal_year']`"
      ]
    },
    {
      "cell_type": "code",
      "metadata": {},
      "source": [
        "# Dot notation\n",
        "df.average.head()"
      ]
    },
    {
      "cell_type": "code",
      "metadata": {},
      "source": [
        "# Bracket notation\n",
        "df['average'].head()"
      ]
    },
    {
      "cell_type": "code",
      "metadata": {},
      "source": [
        "# .loc for specific row and column\n",
        "df.loc[4, 'decimal_year']"
      ]
    },
    {
      "cell_type": "markdown",
      "metadata": {},
      "source": [
        "## 6. Boolean Indexing\n",
        "Filter rows based on logical conditions, e.g., all data from 1960."
      ]
    },
    {
      "cell_type": "code",
      "metadata": {},
      "source": [
        "df_1960 = df[df.year == 1960]\n",
        "df_1960.head()"
      ]
    },
    {
      "cell_type": "markdown",
      "metadata": {},
      "source": [
        "## 7. Query Method\n",
        "An alternative to boolean indexing using string expressions."
      ]
    },
    {
      "cell_type": "code",
      "metadata": {},
      "source": [
        "df_1961 = df.query('year == 1961')\n",
        "df_1961.head()"
      ]
    },
    {
      "cell_type": "markdown",
      "metadata": {},
      "source": [
        "## 8. Descriptive Statistics\n",
        "Quickly summarize numeric columns."
      ]
    },
    {
      "cell_type": "code",
      "metadata": {},
      "source": [
        "mean_co2 = df['average'].mean()\n",
        "std_co2 = df['average'].std()\n",
        "min_co2 = df['average'].min()\n",
        "max_co2 = df['average'].max()\n",
        "print(f\"CO₂ mean={mean_co2:.2f}, std={std_co2:.2f}, min={min_co2}, max={max_co2}\")"
      ]
    },
    {
      "cell_type": "markdown",
      "metadata": {},
      "source": [
        "## 9. Plotting: Line Plot\n",
        "Show the trend of average CO₂ over time."
      ]
    },
    {
      "cell_type": "code",
      "metadata": {},
      "source": [
        "plt.figure(figsize=(10,5))\n",
        "plt.plot(df['decimal_year'], df['average'], label='Monthly Mean CO₂')\n",
        "plt.xlabel('Year')\n",
        "plt.ylabel('CO₂ (ppm)')\n",
        "plt.title('Mauna Loa Monthly Mean CO₂')\n",
        "plt.legend()\n",
        "plt.show()"
      ]
    },
    {
      "cell_type": "markdown",
      "metadata": {},
      "source": [
        "## 10. Plotting: Scatter Plot\n",
        "Visualize the relationship between two variables."
      ]
    },
    {
      "cell_type": "code",
      "metadata": {},
      "source": [
        "plt.figure(figsize=(8,5))\n",
        "plt.scatter(df['decimal_year'], df['average'], alpha=0.5)\n",
        "plt.xlabel('Year')\n",
        "plt.ylabel('CO₂ (ppm)')\n",
        "plt.title('Scatter Plot of CO₂ Data')\n",
        "plt.show()"
      ]
    },
    {
      "cell_type": "markdown",
      "metadata": {},
      "source": [
        "## 11. Subplots\n",
        "Compare deseasonalised and average CO₂ levels."
      ]
    },
    {
      "cell_type": "code",
      "metadata": {},
      "source": [
        "fig, axs = plt.subplots(2, 1, figsize=(10,8), sharex=True)\n",
        "axs[0].plot(df['decimal_year'], df['average'], label='Average')\n",
        "axs[0].set_ylabel('Average CO₂')\n",
        "axs[0].legend()\n",
        "axs[1].plot(df['decimal_year'], df['deseasonalised'], color='orange', label='Deseasonalised')\n",
        "axs[1].set_xlabel('Year')\n",
        "axs[1].set_ylabel('Deseasonalised CO₂')\n",
        "axs[1].legend()\n",
        "plt.tight_layout()\n",
        "plt.show()"
      ]
    },
    {
      "cell_type": "markdown",
      "metadata": {},
      "source": [
        "## 12. Trend Analysis / Regression\n",
        "Fit a linear regression line to quantify the CO₂ trend over time."
      ]
    },
    {
      "cell_type": "code",
      "metadata": {},
      "source": [
        "# Linear fit: y = m*x + c\n",
        "x = df['decimal_year']\n",
        "y = df['average']\n",
        "slope, intercept = np.polyfit(x, y, 1)\n",
        "print(f\"Slope: {slope:.4f} ppm/year, Intercept: {intercept:.2f}\")\n",
        "\n",
        "# Plot with regression line\n",
        "plt.figure(figsize=(10,5))\n",
        "plt.scatter(x, y, s=10, alpha=0.5, label='Data')\n",
        "plt.plot(x, slope*x + intercept, color='red', label='Trend Line')\n",
        "plt.xlabel('Year')\n",
        "plt.ylabel('CO₂ (ppm)')\n",
        "plt.title('CO₂ Trend with Linear Regression')\n",
        "plt.legend()\n",
        "plt.show()"
      ]
    },
    {
      "cell_type": "markdown",
      "metadata": {},
      "source": [
        "# Summary\n",
        "- **Data Import, Cleaning, and Exploration**: Use pandas for robust data handling.\n",
        "- **Indexing and Selection**: Dot/bracket notation and `.loc` for flexibility.\n",
        "- **Statistics**: Use pandas/numpy for descriptive and regression analysis.\n",
        "- **Plotting**: Matplotlib for trends, relationships, and comparisons.\n",
        "\n",
        "Use these techniques as the foundation for more advanced data analysis and visualization in Python."
      ]
    }
  ],
  "metadata": {
    "kernelspec": {
      "display_name": "Python 3",
      "language": "python",
      "name": "python3"
    },
    "colab": {
      "name": "QES_Data_Analysis_and_Plotting_Techniques.ipynb",
      "provenance": []
    }
  },
  "nbformat": 4,
  "nbformat_minor": 0
}